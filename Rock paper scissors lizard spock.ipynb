{
 "cells": [
  {
   "cell_type": "markdown",
   "metadata": {},
   "source": [
    "### Importing useful libraries"
   ]
  },
  {
   "cell_type": "code",
   "execution_count": 1,
   "metadata": {},
   "outputs": [],
   "source": [
    "from tensorflow.keras.preprocessing.image import img_to_array, load_img\n",
    "from tensorflow.keras.layers import AveragePooling2D, Flatten, Dense, Input\n",
    "from tensorflow.keras.models import Model\n",
    "from tensorflow.keras.optimizers import Adam\n",
    "import numpy as np\n",
    "import os\n",
    "import tensorflow as tf"
   ]
  },
  {
   "cell_type": "markdown",
   "metadata": {},
   "source": [
    "### Preparing our Data"
   ]
  },
  {
   "cell_type": "code",
   "execution_count": 2,
   "metadata": {},
   "outputs": [
    {
     "name": "stdout",
     "output_type": "stream",
     "text": [
      "lizard\n",
      "paper\n",
      "rock\n",
      "scissors\n",
      "spock\n"
     ]
    }
   ],
   "source": [
    "import cv2\n",
    "DATA_PATH = \"rpsls_data\" # Path to folder containing data\n",
    "\n",
    "shape_to_label = {'paper':np.array([1.,0.,0.,0.,0.]),'rock':np.array([0.,1.,0.,0.,0.]),'lizard':np.array([0.,0.,1.,0.,0.]),'spock':np.array([0.,0.,0.,1.,0.]),'scissors':np.array([0.,0.,0.,0.,1.])}\n",
    "arr_to_shape = {np.argmax(shape_to_label[x]):x for x in shape_to_label.keys()}\n",
    "\n",
    "imgData = list()\n",
    "labels = list()\n",
    "\n",
    "for dr in os.listdir(DATA_PATH):\n",
    "    if dr not in ['paper','rock','lizard','spock','scissors']:\n",
    "        continue\n",
    "    print(dr)\n",
    "    lb = shape_to_label[dr]\n",
    "    for pic in os.listdir(os.path.join(DATA_PATH,dr)):\n",
    "        path = os.path.join(DATA_PATH,dr+'/'+pic)\n",
    "        image=load_img(path, target_size=(300, 300))\n",
    "        image=img_to_array(image)\n",
    "        imgData.append([image,lb])\n",
    "        imgData.append([cv2.flip(image, 1),lb])\n",
    "        #print(path)\n",
    "\n",
    "np.random.shuffle(imgData)\n",
    "\n",
    "imgData,labels = zip(*imgData)\n",
    "\n",
    "imgData = np.array(imgData)\n",
    "labels = np.array(labels)\n",
    "\n",
    "#print(labels)"
   ]
  },
  {
   "cell_type": "code",
   "execution_count": 3,
   "metadata": {},
   "outputs": [
    {
     "data": {
      "text/plain": [
       "60"
      ]
     },
     "execution_count": 3,
     "metadata": {},
     "output_type": "execute_result"
    }
   ],
   "source": [
    "len(labels)"
   ]
  },
  {
   "cell_type": "code",
   "execution_count": 4,
   "metadata": {},
   "outputs": [
    {
     "data": {
      "text/plain": [
       "array([[0., 0., 0., 0., 1.],\n",
       "       [0., 0., 1., 0., 0.],\n",
       "       [0., 1., 0., 0., 0.],\n",
       "       [0., 1., 0., 0., 0.],\n",
       "       [1., 0., 0., 0., 0.],\n",
       "       [1., 0., 0., 0., 0.],\n",
       "       [1., 0., 0., 0., 0.],\n",
       "       [0., 1., 0., 0., 0.],\n",
       "       [0., 0., 1., 0., 0.],\n",
       "       [0., 1., 0., 0., 0.],\n",
       "       [1., 0., 0., 0., 0.],\n",
       "       [0., 0., 1., 0., 0.],\n",
       "       [0., 1., 0., 0., 0.],\n",
       "       [0., 0., 1., 0., 0.],\n",
       "       [0., 0., 0., 1., 0.],\n",
       "       [0., 0., 0., 1., 0.],\n",
       "       [0., 1., 0., 0., 0.],\n",
       "       [1., 0., 0., 0., 0.],\n",
       "       [0., 0., 0., 1., 0.],\n",
       "       [0., 0., 0., 1., 0.],\n",
       "       [0., 1., 0., 0., 0.],\n",
       "       [0., 0., 1., 0., 0.],\n",
       "       [0., 1., 0., 0., 0.],\n",
       "       [0., 0., 1., 0., 0.],\n",
       "       [0., 1., 0., 0., 0.],\n",
       "       [0., 0., 0., 1., 0.],\n",
       "       [0., 0., 0., 0., 1.],\n",
       "       [0., 0., 0., 1., 0.],\n",
       "       [0., 0., 0., 0., 1.],\n",
       "       [1., 0., 0., 0., 0.],\n",
       "       [1., 0., 0., 0., 0.],\n",
       "       [0., 0., 0., 0., 1.],\n",
       "       [0., 0., 1., 0., 0.],\n",
       "       [0., 0., 1., 0., 0.],\n",
       "       [0., 1., 0., 0., 0.],\n",
       "       [1., 0., 0., 0., 0.],\n",
       "       [0., 0., 1., 0., 0.],\n",
       "       [0., 0., 0., 0., 1.],\n",
       "       [1., 0., 0., 0., 0.],\n",
       "       [0., 0., 0., 0., 1.],\n",
       "       [0., 0., 1., 0., 0.],\n",
       "       [0., 1., 0., 0., 0.],\n",
       "       [1., 0., 0., 0., 0.],\n",
       "       [0., 0., 0., 0., 1.],\n",
       "       [0., 0., 0., 1., 0.],\n",
       "       [0., 0., 0., 1., 0.],\n",
       "       [0., 0., 0., 0., 1.],\n",
       "       [0., 0., 0., 1., 0.],\n",
       "       [1., 0., 0., 0., 0.],\n",
       "       [0., 0., 0., 0., 1.],\n",
       "       [0., 0., 0., 1., 0.],\n",
       "       [1., 0., 0., 0., 0.],\n",
       "       [0., 0., 0., 0., 1.],\n",
       "       [0., 0., 1., 0., 0.],\n",
       "       [0., 0., 0., 1., 0.],\n",
       "       [0., 1., 0., 0., 0.],\n",
       "       [0., 0., 1., 0., 0.],\n",
       "       [0., 0., 0., 1., 0.],\n",
       "       [0., 0., 0., 0., 1.],\n",
       "       [0., 0., 0., 0., 1.]])"
      ]
     },
     "execution_count": 4,
     "metadata": {},
     "output_type": "execute_result"
    }
   ],
   "source": [
    "labels"
   ]
  },
  {
   "cell_type": "markdown",
   "metadata": {},
   "source": [
    "## Now let's prepare our model and train it"
   ]
  },
  {
   "cell_type": "code",
   "execution_count": 5,
   "metadata": {},
   "outputs": [
    {
     "name": "stderr",
     "output_type": "stream",
     "text": [
      "Using TensorFlow backend.\n"
     ]
    }
   ],
   "source": [
    "from keras.callbacks import ModelCheckpoint, EarlyStopping"
   ]
  },
  {
   "cell_type": "code",
   "execution_count": 6,
   "metadata": {},
   "outputs": [],
   "source": [
    "checkpoint = ModelCheckpoint(\n",
    "    'model_rpsls.h5', \n",
    "    monitor='val_acc', \n",
    "    verbose=1, \n",
    "    save_best_only=True, \n",
    "    save_weights_only=True,\n",
    "    mode='auto'\n",
    ")\n",
    "\n",
    "es = EarlyStopping(patience = 3)"
   ]
  },
  {
   "cell_type": "code",
   "execution_count": 7,
   "metadata": {},
   "outputs": [],
   "source": [
    "model=tf.keras.models.Sequential([tf.keras.layers.Conv2D(100, (3,3), activation='relu', input_shape=(300, 300, 3)), \n",
    "                                 tf.keras.layers.MaxPooling2D(),\n",
    "                                 tf.keras.layers.Conv2D(100, (3,3), activation='relu'),\n",
    "                                 tf.keras.layers.MaxPooling2D(),\n",
    "                                 tf.keras.layers.Flatten(),\n",
    "                                 tf.keras.layers.Dense(50, activation='relu'),\n",
    "                                 tf.keras.layers.Dense(5, activation='softmax')])"
   ]
  },
  {
   "cell_type": "code",
   "execution_count": 8,
   "metadata": {},
   "outputs": [],
   "source": [
    "model.compile(optimizer='adam',loss='categorical_crossentropy',metrics=['acc'])"
   ]
  },
  {
   "cell_type": "code",
   "execution_count": 9,
   "metadata": {},
   "outputs": [
    {
     "name": "stdout",
     "output_type": "stream",
     "text": [
      "Train on 48 samples, validate on 12 samples\n",
      "Epoch 1/8\n",
      "32/48 [===================>..........] - ETA: 6s - loss: 2697.3025 - acc: 0.1562\n",
      "Epoch 00001: val_acc improved from -inf to 0.25000, saving model to model_rpsls.h5\n",
      "48/48 [==============================] - 21s 433ms/sample - loss: 2275.9943 - acc: 0.1250 - val_loss: 1408.8353 - val_acc: 0.2500\n",
      "Epoch 2/8\n",
      "32/48 [===================>..........] - ETA: 5s - loss: 1226.3094 - acc: 0.1875 \n",
      "Epoch 00002: val_acc did not improve from 0.25000\n",
      "48/48 [==============================] - 17s 349ms/sample - loss: 859.3252 - acc: 0.2500 - val_loss: 98.1705 - val_acc: 0.1667\n",
      "Epoch 3/8\n",
      "32/48 [===================>..........] - ETA: 5s - loss: 58.3902 - acc: 0.3125 \n",
      "Epoch 00003: val_acc improved from 0.25000 to 0.41667, saving model to model_rpsls.h5\n",
      "48/48 [==============================] - 19s 392ms/sample - loss: 45.4646 - acc: 0.2917 - val_loss: 9.9707 - val_acc: 0.4167\n",
      "Epoch 4/8\n",
      "32/48 [===================>..........] - ETA: 5s - loss: 6.0821 - acc: 0.5000  \n",
      "Epoch 00004: val_acc improved from 0.41667 to 0.91667, saving model to model_rpsls.h5\n",
      "48/48 [==============================] - 18s 376ms/sample - loss: 4.0600 - acc: 0.6667 - val_loss: 0.2561 - val_acc: 0.9167\n",
      "Epoch 5/8\n",
      "32/48 [===================>..........] - ETA: 5s - loss: 0.0579 - acc: 1.0000\n",
      "Epoch 00005: val_acc did not improve from 0.91667\n",
      "48/48 [==============================] - 16s 342ms/sample - loss: 0.0904 - acc: 1.0000 - val_loss: 0.2515 - val_acc: 0.9167\n",
      "Epoch 6/8\n",
      "32/48 [===================>..........] - ETA: 5s - loss: 0.3038 - acc: 0.8438 \n",
      "Epoch 00006: val_acc did not improve from 0.91667\n",
      "48/48 [==============================] - 17s 347ms/sample - loss: 2.3221 - acc: 0.6875 - val_loss: 17.9928 - val_acc: 0.2500\n",
      "Epoch 7/8\n",
      "32/48 [===================>..........] - ETA: 5s - loss: 6.0022 - acc: 0.6875  \n",
      "Epoch 00007: val_acc did not improve from 0.91667\n",
      "48/48 [==============================] - 17s 348ms/sample - loss: 4.0063 - acc: 0.7917 - val_loss: 18.6869 - val_acc: 0.0833\n",
      "Epoch 8/8\n",
      "32/48 [===================>..........] - ETA: 5s - loss: 8.9205 - acc: 0.3125  \n",
      "Epoch 00008: val_acc improved from 0.91667 to 1.00000, saving model to model_rpsls.h5\n",
      "48/48 [==============================] - 18s 370ms/sample - loss: 5.9864 - acc: 0.5417 - val_loss: 0.5121 - val_acc: 1.0000\n"
     ]
    }
   ],
   "source": [
    "history = model.fit(\n",
    "    x=imgData,\n",
    "    y=labels,\n",
    "    batch_size = 16,\n",
    "    epochs=8,\n",
    "    callbacks=[checkpoint,es],\n",
    "    validation_split=0.2\n",
    ")"
   ]
  },
  {
   "cell_type": "markdown",
   "metadata": {},
   "source": [
    "## Save our model"
   ]
  },
  {
   "cell_type": "code",
   "execution_count": 12,
   "metadata": {},
   "outputs": [],
   "source": [
    "model.save(\"model_test.h5\")"
   ]
  },
  {
   "cell_type": "code",
   "execution_count": null,
   "metadata": {},
   "outputs": [],
   "source": []
  }
 ],
 "metadata": {
  "kernelspec": {
   "display_name": "Python 3",
   "language": "python",
   "name": "python3"
  },
  "language_info": {
   "codemirror_mode": {
    "name": "ipython",
    "version": 3
   },
   "file_extension": ".py",
   "mimetype": "text/x-python",
   "name": "python",
   "nbconvert_exporter": "python",
   "pygments_lexer": "ipython3",
   "version": "3.7.6"
  }
 },
 "nbformat": 4,
 "nbformat_minor": 4
}
